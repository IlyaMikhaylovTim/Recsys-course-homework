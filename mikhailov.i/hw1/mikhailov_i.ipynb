{
  "nbformat": 4,
  "nbformat_minor": 0,
  "metadata": {
    "colab": {
      "name": "recsys_hw1.ipynb",
      "provenance": [],
      "collapsed_sections": []
    },
    "kernelspec": {
      "name": "python3",
      "display_name": "Python 3"
    },
    "language_info": {
      "name": "python"
    }
  },
  "cells": [
    {
      "cell_type": "code",
      "metadata": {
        "id": "YY0v8W5m-fa9"
      },
      "source": [
        "import pandas as pd\n",
        "import numpy as np\n",
        "from sklearn.linear_model import LogisticRegression\n",
        "from sklearn.metrics import log_loss\n",
        "from sklearn.preprocessing import OneHotEncoder\n",
        "from sklearn.metrics import f1_score as F1\n",
        "\n",
        "import matplotlib as mpl\n",
        "import matplotlib.pyplot as plt\n",
        "%matplotlib inline\n",
        "plt.style.use('default')\n",
        "\n",
        "from collections import defaultdict\n",
        "from tqdm import tqdm"
      ],
      "execution_count": 4,
      "outputs": []
    },
    {
      "cell_type": "code",
      "metadata": {
        "colab": {
          "base_uri": "https://localhost:8080/"
        },
        "id": "XlP5luq4Ar4p",
        "outputId": "4a3a3f76-5482-4db5-d00f-3bbdcb181fe5"
      },
      "source": [
        "from google.colab import drive\n",
        "drive.mount('/content/drive')\n",
        "%cd drive/MyDrive/CSC/fall2021/recsys/hw1/"
      ],
      "execution_count": 5,
      "outputs": [
        {
          "output_type": "stream",
          "name": "stdout",
          "text": [
            "Drive already mounted at /content/drive; to attempt to forcibly remount, call drive.mount(\"/content/drive\", force_remount=True).\n",
            "/content/drive/MyDrive/CSC/fall2021/recsys/hw1\n"
          ]
        }
      ]
    },
    {
      "cell_type": "code",
      "metadata": {
        "id": "JwQ_pNO0-m0j",
        "colab": {
          "base_uri": "https://localhost:8080/",
          "height": 143
        },
        "outputId": "f18603b6-3ec9-47db-bb3a-69bed76d4610"
      },
      "source": [
        "# читаем из файла фичи\n",
        "raw_data = pd.read_csv('data/data.csv', usecols=['date_time', 'zone_id',\n",
        "                                             'banner_id', 'oaid_hash',\n",
        "                                             'campaign_clicks', 'os_id',\n",
        "                                             'country_id', 'impressions',\n",
        "                                             'clicks'])\n",
        "raw_data.head(3)"
      ],
      "execution_count": 40,
      "outputs": [
        {
          "output_type": "execute_result",
          "data": {
            "text/html": [
              "<div>\n",
              "<style scoped>\n",
              "    .dataframe tbody tr th:only-of-type {\n",
              "        vertical-align: middle;\n",
              "    }\n",
              "\n",
              "    .dataframe tbody tr th {\n",
              "        vertical-align: top;\n",
              "    }\n",
              "\n",
              "    .dataframe thead th {\n",
              "        text-align: right;\n",
              "    }\n",
              "</style>\n",
              "<table border=\"1\" class=\"dataframe\">\n",
              "  <thead>\n",
              "    <tr style=\"text-align: right;\">\n",
              "      <th></th>\n",
              "      <th>date_time</th>\n",
              "      <th>zone_id</th>\n",
              "      <th>banner_id</th>\n",
              "      <th>oaid_hash</th>\n",
              "      <th>campaign_clicks</th>\n",
              "      <th>os_id</th>\n",
              "      <th>country_id</th>\n",
              "      <th>impressions</th>\n",
              "      <th>clicks</th>\n",
              "    </tr>\n",
              "  </thead>\n",
              "  <tbody>\n",
              "    <tr>\n",
              "      <th>0</th>\n",
              "      <td>2021-09-27 00:01:30.000000</td>\n",
              "      <td>0</td>\n",
              "      <td>0</td>\n",
              "      <td>5664530014561852622</td>\n",
              "      <td>0</td>\n",
              "      <td>0</td>\n",
              "      <td>0</td>\n",
              "      <td>1</td>\n",
              "      <td>1</td>\n",
              "    </tr>\n",
              "    <tr>\n",
              "      <th>1</th>\n",
              "      <td>2021-09-26 22:54:49.000000</td>\n",
              "      <td>1</td>\n",
              "      <td>1</td>\n",
              "      <td>5186611064559013950</td>\n",
              "      <td>0</td>\n",
              "      <td>0</td>\n",
              "      <td>1</td>\n",
              "      <td>1</td>\n",
              "      <td>1</td>\n",
              "    </tr>\n",
              "    <tr>\n",
              "      <th>2</th>\n",
              "      <td>2021-09-26 23:57:20.000000</td>\n",
              "      <td>2</td>\n",
              "      <td>2</td>\n",
              "      <td>2215519569292448030</td>\n",
              "      <td>3</td>\n",
              "      <td>0</td>\n",
              "      <td>0</td>\n",
              "      <td>1</td>\n",
              "      <td>1</td>\n",
              "    </tr>\n",
              "  </tbody>\n",
              "</table>\n",
              "</div>"
            ],
            "text/plain": [
              "                    date_time  zone_id  ...  impressions  clicks\n",
              "0  2021-09-27 00:01:30.000000        0  ...            1       1\n",
              "1  2021-09-26 22:54:49.000000        1  ...            1       1\n",
              "2  2021-09-26 23:57:20.000000        2  ...            1       1\n",
              "\n",
              "[3 rows x 9 columns]"
            ]
          },
          "metadata": {},
          "execution_count": 40
        }
      ]
    },
    {
      "cell_type": "code",
      "metadata": {
        "colab": {
          "base_uri": "https://localhost:8080/"
        },
        "id": "LXFE7NCJ5nYr",
        "outputId": "49c1385f-72fd-42f8-d4d0-a605ae2f842d"
      },
      "source": [
        "# смотрим разброс по дням\n",
        "sorted(set(raw_data['date_time'].map(lambda s: s[:10])))"
      ],
      "execution_count": 41,
      "outputs": [
        {
          "output_type": "execute_result",
          "data": {
            "text/plain": [
              "['2021-09-01',\n",
              " '2021-09-26',\n",
              " '2021-09-27',\n",
              " '2021-09-28',\n",
              " '2021-09-29',\n",
              " '2021-09-30',\n",
              " '2021-10-01',\n",
              " '2021-10-02']"
            ]
          },
          "metadata": {},
          "execution_count": 41
        }
      ]
    },
    {
      "cell_type": "code",
      "metadata": {
        "id": "pLo0bAVh1jsU"
      },
      "source": [
        "# удаляем 1 сентября, так как оно далеко от общей массы данных (по времени)\n",
        "raw_data.drop(raw_data[raw_data['date_time'].map(lambda s: s[:10]) == '2021-09-01'].index, inplace=True, axis=0)"
      ],
      "execution_count": 35,
      "outputs": []
    },
    {
      "cell_type": "code",
      "metadata": {
        "id": "8QFjFN5ZsxzY"
      },
      "source": [
        ""
      ],
      "execution_count": null,
      "outputs": []
    },
    {
      "cell_type": "markdown",
      "metadata": {
        "id": "JF25mlFFr3KV"
      },
      "source": [
        "# Линейная модель"
      ]
    },
    {
      "cell_type": "code",
      "metadata": {
        "id": "AiJ65YRk-oOn"
      },
      "source": [
        "def feature_engineering(data, cols_to_drop):\n",
        "  return data.drop(cols_to_drop, axis=1)"
      ],
      "execution_count": 8,
      "outputs": []
    },
    {
      "cell_type": "code",
      "metadata": {
        "id": "ykv7l0PO-oUP"
      },
      "source": [
        "def train_val_test_split(data, last_train_day='2021-09-30', last_val_day='2021-10-02'):\n",
        "  # обучаем one-hot encoder\n",
        "  enc = OneHotEncoder(handle_unknown='ignore')\n",
        "  enc.fit(data.drop(['clicks', 'date_time'], axis=1))\n",
        "\n",
        "  # выделяем в train данные до last_train_day\n",
        "  train_condition = data['date_time'].apply(lambda s: s.split()[0]) < last_train_day\n",
        "  train_data = data[train_condition]\n",
        "\n",
        "  X_train = train_data.drop(['clicks', 'date_time'], axis=1)\n",
        "  X_train = enc.transform(X_train)\n",
        "  y_train = train_data['clicks']\n",
        "\n",
        "  # выделяем в val данные от last_train_day до last_val_day\n",
        "  validate_condition = (data['date_time'].apply(lambda s: s.split()[0]) >= last_train_day) & (data['date_time'].apply(lambda s: s.split()[0]) < last_val_day)\n",
        "  validate_data = data[validate_condition]\n",
        "\n",
        "  X_val = validate_data.drop(['clicks', 'date_time'], axis=1)\n",
        "  X_val = enc.transform(X_val)\n",
        "  y_val = validate_data['clicks']\n",
        "\n",
        "  # выделяем в test данные последнего дня\n",
        "  test_condition = data['date_time'].apply(lambda s: s.split()[0]) >= last_val_day\n",
        "  test_data = data[test_condition]\n",
        "\n",
        "  X_test = test_data.drop(['clicks', 'date_time'], axis=1)\n",
        "  X_test = enc.transform(X_test)\n",
        "  y_test = test_data['clicks']\n",
        "\n",
        "  return X_train, y_train, X_val, y_val, X_test, y_test\n",
        "\n"
      ],
      "execution_count": 9,
      "outputs": []
    },
    {
      "cell_type": "code",
      "metadata": {
        "id": "c3E9F9mhshkM"
      },
      "source": [
        "def create_model(X_train, y_train, fit_intercept=False, C=1):\n",
        "  model = LogisticRegression(fit_intercept=fit_intercept, C=C, solver='liblinear').fit(X_train, y_train)\n",
        "\n",
        "  return model"
      ],
      "execution_count": 10,
      "outputs": []
    },
    {
      "cell_type": "code",
      "metadata": {
        "id": "hW1HpAPm4CIW"
      },
      "source": [
        "# подготавливаем данные\n",
        "data = feature_engineering(raw_data, cols_to_drop=['oaid_hash', 'impressions'])"
      ],
      "execution_count": 11,
      "outputs": []
    },
    {
      "cell_type": "code",
      "metadata": {
        "id": "SOodZLVk-oZm",
        "colab": {
          "base_uri": "https://localhost:8080/"
        },
        "outputId": "37c1b543-a985-43cd-a773-410af6eb8b60"
      },
      "source": [
        "# разбиваем данные на train, val, test\n",
        "%%time\n",
        "X_train, y_train, X_val, y_val, X_test, y_test = train_val_test_split(data)"
      ],
      "execution_count": 12,
      "outputs": [
        {
          "output_type": "stream",
          "name": "stdout",
          "text": [
            "CPU times: user 40.6 s, sys: 5.18 s, total: 45.7 s\n",
            "Wall time: 45.7 s\n"
          ]
        }
      ]
    },
    {
      "cell_type": "code",
      "metadata": {
        "id": "wkD_c6mPtbr-"
      },
      "source": [
        ""
      ],
      "execution_count": null,
      "outputs": []
    },
    {
      "cell_type": "code",
      "metadata": {
        "id": "YbfSZuU5I3xV"
      },
      "source": [
        "log_losses = []\n",
        "C_arr = [100, 10, 1]"
      ],
      "execution_count": 47,
      "outputs": []
    },
    {
      "cell_type": "code",
      "metadata": {
        "id": "Y-cE3IRcCuNW",
        "colab": {
          "base_uri": "https://localhost:8080/"
        },
        "outputId": "b78971d5-b7f2-493d-9280-597bf44710d7"
      },
      "source": [
        "# перебираем параметры и сравниваем качество моделей\n",
        "# fit_intercept=True\n",
        "%%time\n",
        "for C in tqdm(C_arr):\n",
        "  model = create_model(X_train, y_train, fit_intercept=True, C=C)\n",
        "  y_pred = model.predict_proba(X_val)\n",
        "\n",
        "  loss = log_loss(y_val, y_pred)\n",
        "  log_losses.append(loss)"
      ],
      "execution_count": 48,
      "outputs": [
        {
          "output_type": "stream",
          "name": "stderr",
          "text": [
            "100%|██████████| 3/3 [22:26<00:00, 448.71s/it]"
          ]
        },
        {
          "output_type": "stream",
          "name": "stdout",
          "text": [
            "CPU times: user 22min 23s, sys: 3.56 s, total: 22min 27s\n",
            "Wall time: 22min 26s\n"
          ]
        },
        {
          "output_type": "stream",
          "name": "stderr",
          "text": [
            "\n"
          ]
        }
      ]
    },
    {
      "cell_type": "code",
      "metadata": {
        "colab": {
          "base_uri": "https://localhost:8080/",
          "height": 450
        },
        "id": "82X2FnfLJRjz",
        "outputId": "9617ec3a-5766-43e4-c8ad-c0b3a239290c"
      },
      "source": [
        "fig = plt.figure()\n",
        "ax = plt.axes()\n",
        "\n",
        "x = np.arange(len(C_arr))\n",
        "\n",
        "plt.scatter(x, np.array(log_losses), c=\"g\")\n",
        "plt.xlabel(\"C_arr_indxs\")\n",
        "plt.ylabel(\"log_loss\")\n",
        "plt.show()"
      ],
      "execution_count": 49,
      "outputs": [
        {
          "output_type": "display_data",
          "data": {
            "image/png": "[encoded data removed]",
            "text/plain": [
              "<Figure size 640x480 with 1 Axes>"
            ]
          },
          "metadata": {}
        }
      ]
    },
    {
      "cell_type": "code",
      "metadata": {
        "id": "YKqDQq0Cyz3-"
      },
      "source": [
        ""
      ],
      "execution_count": 49,
      "outputs": []
    },
    {
      "cell_type": "code",
      "metadata": {
        "id": "xab2ZQAmIEqL"
      },
      "source": [
        ""
      ],
      "execution_count": 49,
      "outputs": []
    },
    {
      "cell_type": "code",
      "metadata": {
        "id": "PZb26f5gzuT_"
      },
      "source": [
        "log_losses = []\n",
        "C_arr = [100, 10, 1]"
      ],
      "execution_count": 50,
      "outputs": []
    },
    {
      "cell_type": "code",
      "metadata": {
        "colab": {
          "base_uri": "https://localhost:8080/"
        },
        "id": "4CT4F66CzuYn",
        "outputId": "97423da2-f521-45ce-a43a-40bd3dc69458"
      },
      "source": [
        "# перебираем параметры и сравниваем качество моделей\n",
        "# fit_intercept=False\n",
        "for C in tqdm(C_arr):\n",
        "  model = create_model(X_train, y_train, fit_intercept=False, C=C)\n",
        "  y_pred = model.predict_proba(X_val)\n",
        "\n",
        "  loss = log_loss(y_val, y_pred)\n",
        "  log_losses.append(loss)"
      ],
      "execution_count": 51,
      "outputs": [
        {
          "output_type": "stream",
          "name": "stderr",
          "text": [
            "100%|██████████| 3/3 [18:23<00:00, 367.67s/it]\n"
          ]
        }
      ]
    },
    {
      "cell_type": "code",
      "metadata": {
        "colab": {
          "base_uri": "https://localhost:8080/",
          "height": 450
        },
        "id": "gEQFIcdHzub_",
        "outputId": "ba9fe192-1ba9-43ac-f687-b917ea4c0f91"
      },
      "source": [
        "fig = plt.figure()\n",
        "ax = plt.axes()\n",
        "\n",
        "x = np.arange(len(C_arr))\n",
        "\n",
        "plt.scatter(x, np.array(log_losses), c=\"g\")\n",
        "plt.xlabel(\"C_arr_indxs\")\n",
        "plt.ylabel(\"log_loss\")\n",
        "plt.show()"
      ],
      "execution_count": 52,
      "outputs": [
        {
          "output_type": "display_data",
          "data": {
            "image/png": "[encoded data removed]",
            "text/plain": [
              "<Figure size 640x480 with 1 Axes>"
            ]
          },
          "metadata": {}
        }
      ]
    },
    {
      "cell_type": "code",
      "metadata": {
        "id": "FyZHzVO30dH8"
      },
      "source": [
        ""
      ],
      "execution_count": null,
      "outputs": []
    },
    {
      "cell_type": "code",
      "metadata": {
        "id": "mv_Ff21tMJVa",
        "colab": {
          "base_uri": "https://localhost:8080/"
        },
        "outputId": "f7aa555a-98b7-4305-ecc2-84bf662e0b9d"
      },
      "source": [
        "# обучаем модель, показавшую на val лучшее качество\n",
        "%%time\n",
        "model = create_model(X_train, y_train, fit_intercept=True, C=1)"
      ],
      "execution_count": 44,
      "outputs": [
        {
          "output_type": "stream",
          "name": "stdout",
          "text": [
            "CPU times: user 3min 7s, sys: 1.65 s, total: 3min 9s\n",
            "Wall time: 3min 9s\n"
          ]
        }
      ]
    },
    {
      "cell_type": "code",
      "metadata": {
        "id": "WSRTTWP6wqn1"
      },
      "source": [
        "y_pred = model.predict_proba(X_test)"
      ],
      "execution_count": 45,
      "outputs": []
    },
    {
      "cell_type": "code",
      "metadata": {
        "id": "iWOfT0r6st7n",
        "colab": {
          "base_uri": "https://localhost:8080/"
        },
        "outputId": "92102842-8d14-473a-bbc6-36146506523d"
      },
      "source": [
        "print(\"Log-loss: {:.4f}\".format(log_loss(y_test, y_pred)))"
      ],
      "execution_count": 46,
      "outputs": [
        {
          "output_type": "stream",
          "name": "stdout",
          "text": [
            "Log-loss: 0.1370\n"
          ]
        }
      ]
    },
    {
      "cell_type": "code",
      "metadata": {
        "id": "NCiFpXTb0hsS"
      },
      "source": [
        ""
      ],
      "execution_count": null,
      "outputs": []
    }
  ]
}